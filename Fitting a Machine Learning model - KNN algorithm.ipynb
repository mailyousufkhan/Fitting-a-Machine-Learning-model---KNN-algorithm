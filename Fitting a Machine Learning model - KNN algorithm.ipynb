{
 "cells": [
  {
   "cell_type": "code",
   "execution_count": 2,
   "metadata": {},
   "outputs": [
    {
     "data": {
      "text/html": [
       "5.1,3.5,1.4,0.2,Iris-setosa\n",
       "4.9,3.0,1.4,0.2,Iris-setosa\n",
       "4.7,3.2,1.3,0.2,Iris-setosa\n",
       "4.6,3.1,1.5,0.2,Iris-setosa\n",
       "5.0,3.6,1.4,0.2,Iris-setosa\n",
       "5.4,3.9,1.7,0.4,Iris-setosa\n",
       "4.6,3.4,1.4,0.3,Iris-setosa\n",
       "5.0,3.4,1.5,0.2,Iris-setosa\n",
       "4.4,2.9,1.4,0.2,Iris-setosa\n",
       "4.9,3.1,1.5,0.1,Iris-setosa\n",
       "5.4,3.7,1.5,0.2,Iris-setosa\n",
       "4.8,3.4,1.6,0.2,Iris-setosa\n",
       "4.8,3.0,1.4,0.1,Iris-setosa\n",
       "4.3,3.0,1.1,0.1,Iris-setosa\n",
       "5.8,4.0,1.2,0.2,Iris-setosa\n",
       "5.7,4.4,1.5,0.4,Iris-setosa\n",
       "5.4,3.9,1.3,0.4,Iris-setosa\n",
       "5.1,3.5,1.4,0.3,Iris-setosa\n",
       "5.7,3.8,1.7,0.3,Iris-setosa\n",
       "5.1,3.8,1.5,0.3,Iris-setosa\n",
       "5.4,3.4,1.7,0.2,Iris-setosa\n",
       "5.1,3.7,1.5,0.4,Iris-setosa\n",
       "4.6,3.6,1.0,0.2,Iris-setosa\n",
       "5.1,3.3,1.7,0.5,Iris-setosa\n",
       "4.8,3.4,1.9,0.2,Iris-setosa\n",
       "5.0,3.0,1.6,0.2,Iris-setosa\n",
       "5.0,3.4,1.6,0.4,Iris-setosa\n",
       "5.2,3.5,1.5,0.2,Iris-setosa\n",
       "5.2,3.4,1.4,0.2,Iris-setosa\n",
       "4.7,3.2,1.6,0.2,Iris-setosa\n",
       "4.8,3.1,1.6,0.2,Iris-setosa\n",
       "5.4,3.4,1.5,0.4,Iris-setosa\n",
       "5.2,4.1,1.5,0.1,Iris-setosa\n",
       "5.5,4.2,1.4,0.2,Iris-setosa\n",
       "4.9,3.1,1.5,0.1,Iris-setosa\n",
       "5.0,3.2,1.2,0.2,Iris-setosa\n",
       "5.5,3.5,1.3,0.2,Iris-setosa\n",
       "4.9,3.1,1.5,0.1,Iris-setosa\n",
       "4.4,3.0,1.3,0.2,Iris-setosa\n",
       "5.1,3.4,1.5,0.2,Iris-setosa\n",
       "5.0,3.5,1.3,0.3,Iris-setosa\n",
       "4.5,2.3,1.3,0.3,Iris-setosa\n",
       "4.4,3.2,1.3,0.2,Iris-setosa\n",
       "5.0,3.5,1.6,0.6,Iris-setosa\n",
       "5.1,3.8,1.9,0.4,Iris-setosa\n",
       "4.8,3.0,1.4,0.3,Iris-setosa\n",
       "5.1,3.8,1.6,0.2,Iris-setosa\n",
       "4.6,3.2,1.4,0.2,Iris-setosa\n",
       "5.3,3.7,1.5,0.2,Iris-setosa\n",
       "5.0,3.3,1.4,0.2,Iris-setosa\n",
       "7.0,3.2,4.7,1.4,Iris-versicolor\n",
       "6.4,3.2,4.5,1.5,Iris-versicolor\n",
       "6.9,3.1,4.9,1.5,Iris-versicolor\n",
       "5.5,2.3,4.0,1.3,Iris-versicolor\n",
       "6.5,2.8,4.6,1.5,Iris-versicolor\n",
       "5.7,2.8,4.5,1.3,Iris-versicolor\n",
       "6.3,3.3,4.7,1.6,Iris-versicolor\n",
       "4.9,2.4,3.3,1.0,Iris-versicolor\n",
       "6.6,2.9,4.6,1.3,Iris-versicolor\n",
       "5.2,2.7,3.9,1.4,Iris-versicolor\n",
       "5.0,2.0,3.5,1.0,Iris-versicolor\n",
       "5.9,3.0,4.2,1.5,Iris-versicolor\n",
       "6.0,2.2,4.0,1.0,Iris-versicolor\n",
       "6.1,2.9,4.7,1.4,Iris-versicolor\n",
       "5.6,2.9,3.6,1.3,Iris-versicolor\n",
       "6.7,3.1,4.4,1.4,Iris-versicolor\n",
       "5.6,3.0,4.5,1.5,Iris-versicolor\n",
       "5.8,2.7,4.1,1.0,Iris-versicolor\n",
       "6.2,2.2,4.5,1.5,Iris-versicolor\n",
       "5.6,2.5,3.9,1.1,Iris-versicolor\n",
       "5.9,3.2,4.8,1.8,Iris-versicolor\n",
       "6.1,2.8,4.0,1.3,Iris-versicolor\n",
       "6.3,2.5,4.9,1.5,Iris-versicolor\n",
       "6.1,2.8,4.7,1.2,Iris-versicolor\n",
       "6.4,2.9,4.3,1.3,Iris-versicolor\n",
       "6.6,3.0,4.4,1.4,Iris-versicolor\n",
       "6.8,2.8,4.8,1.4,Iris-versicolor\n",
       "6.7,3.0,5.0,1.7,Iris-versicolor\n",
       "6.0,2.9,4.5,1.5,Iris-versicolor\n",
       "5.7,2.6,3.5,1.0,Iris-versicolor\n",
       "5.5,2.4,3.8,1.1,Iris-versicolor\n",
       "5.5,2.4,3.7,1.0,Iris-versicolor\n",
       "5.8,2.7,3.9,1.2,Iris-versicolor\n",
       "6.0,2.7,5.1,1.6,Iris-versicolor\n",
       "5.4,3.0,4.5,1.5,Iris-versicolor\n",
       "6.0,3.4,4.5,1.6,Iris-versicolor\n",
       "6.7,3.1,4.7,1.5,Iris-versicolor\n",
       "6.3,2.3,4.4,1.3,Iris-versicolor\n",
       "5.6,3.0,4.1,1.3,Iris-versicolor\n",
       "5.5,2.5,4.0,1.3,Iris-versicolor\n",
       "5.5,2.6,4.4,1.2,Iris-versicolor\n",
       "6.1,3.0,4.6,1.4,Iris-versicolor\n",
       "5.8,2.6,4.0,1.2,Iris-versicolor\n",
       "5.0,2.3,3.3,1.0,Iris-versicolor\n",
       "5.6,2.7,4.2,1.3,Iris-versicolor\n",
       "5.7,3.0,4.2,1.2,Iris-versicolor\n",
       "5.7,2.9,4.2,1.3,Iris-versicolor\n",
       "6.2,2.9,4.3,1.3,Iris-versicolor\n",
       "5.1,2.5,3.0,1.1,Iris-versicolor\n",
       "5.7,2.8,4.1,1.3,Iris-versicolor\n",
       "6.3,3.3,6.0,2.5,Iris-virginica\n",
       "5.8,2.7,5.1,1.9,Iris-virginica\n",
       "7.1,3.0,5.9,2.1,Iris-virginica\n",
       "6.3,2.9,5.6,1.8,Iris-virginica\n",
       "6.5,3.0,5.8,2.2,Iris-virginica\n",
       "7.6,3.0,6.6,2.1,Iris-virginica\n",
       "4.9,2.5,4.5,1.7,Iris-virginica\n",
       "7.3,2.9,6.3,1.8,Iris-virginica\n",
       "6.7,2.5,5.8,1.8,Iris-virginica\n",
       "7.2,3.6,6.1,2.5,Iris-virginica\n",
       "6.5,3.2,5.1,2.0,Iris-virginica\n",
       "6.4,2.7,5.3,1.9,Iris-virginica\n",
       "6.8,3.0,5.5,2.1,Iris-virginica\n",
       "5.7,2.5,5.0,2.0,Iris-virginica\n",
       "5.8,2.8,5.1,2.4,Iris-virginica\n",
       "6.4,3.2,5.3,2.3,Iris-virginica\n",
       "6.5,3.0,5.5,1.8,Iris-virginica\n",
       "7.7,3.8,6.7,2.2,Iris-virginica\n",
       "7.7,2.6,6.9,2.3,Iris-virginica\n",
       "6.0,2.2,5.0,1.5,Iris-virginica\n",
       "6.9,3.2,5.7,2.3,Iris-virginica\n",
       "5.6,2.8,4.9,2.0,Iris-virginica\n",
       "7.7,2.8,6.7,2.0,Iris-virginica\n",
       "6.3,2.7,4.9,1.8,Iris-virginica\n",
       "6.7,3.3,5.7,2.1,Iris-virginica\n",
       "7.2,3.2,6.0,1.8,Iris-virginica\n",
       "6.2,2.8,4.8,1.8,Iris-virginica\n",
       "6.1,3.0,4.9,1.8,Iris-virginica\n",
       "6.4,2.8,5.6,2.1,Iris-virginica\n",
       "7.2,3.0,5.8,1.6,Iris-virginica\n",
       "7.4,2.8,6.1,1.9,Iris-virginica\n",
       "7.9,3.8,6.4,2.0,Iris-virginica\n",
       "6.4,2.8,5.6,2.2,Iris-virginica\n",
       "6.3,2.8,5.1,1.5,Iris-virginica\n",
       "6.1,2.6,5.6,1.4,Iris-virginica\n",
       "7.7,3.0,6.1,2.3,Iris-virginica\n",
       "6.3,3.4,5.6,2.4,Iris-virginica\n",
       "6.4,3.1,5.5,1.8,Iris-virginica\n",
       "6.0,3.0,4.8,1.8,Iris-virginica\n",
       "6.9,3.1,5.4,2.1,Iris-virginica\n",
       "6.7,3.1,5.6,2.4,Iris-virginica\n",
       "6.9,3.1,5.1,2.3,Iris-virginica\n",
       "5.8,2.7,5.1,1.9,Iris-virginica\n",
       "6.8,3.2,5.9,2.3,Iris-virginica\n",
       "6.7,3.3,5.7,2.5,Iris-virginica\n",
       "6.7,3.0,5.2,2.3,Iris-virginica\n",
       "6.3,2.5,5.0,1.9,Iris-virginica\n",
       "6.5,3.0,5.2,2.0,Iris-virginica\n",
       "6.2,3.4,5.4,2.3,Iris-virginica\n",
       "5.9,3.0,5.1,1.8,Iris-virginica\n",
       "\n"
      ],
      "text/plain": [
       "<IPython.core.display.HTML object>"
      ]
     },
     "execution_count": 2,
     "metadata": {},
     "output_type": "execute_result"
    }
   ],
   "source": [
    "from IPython.display import HTML\n",
    "HTML(\"https://archive.ics.uci.edu/ml/machine-learning-databases/iris/iris.data\")"
   ]
  },
  {
   "cell_type": "code",
   "execution_count": 3,
   "metadata": {},
   "outputs": [
    {
     "data": {
      "text/html": [
       "<iframe src=https://archive.ics.uci.edu/ml/machine-learning-databases/iris/iris.data> </frame>"
      ],
      "text/plain": [
       "<IPython.core.display.HTML object>"
      ]
     },
     "execution_count": 3,
     "metadata": {},
     "output_type": "execute_result"
    }
   ],
   "source": [
    "from IPython.display import HTML\n",
    "HTML(\"<iframe src=https://archive.ics.uci.edu/ml/machine-learning-databases/iris/iris.data> </frame>\")"
   ]
  },
  {
   "cell_type": "code",
   "execution_count": 33,
   "metadata": {},
   "outputs": [
    {
     "data": {
      "text/plain": [
       "sklearn.utils.Bunch"
      ]
     },
     "execution_count": 33,
     "metadata": {},
     "output_type": "execute_result"
    }
   ],
   "source": [
    "from sklearn.datasets import load_iris\n",
    "iris = load_iris()\n",
    "type(iris)"
   ]
  },
  {
   "cell_type": "code",
   "execution_count": 4,
   "metadata": {},
   "outputs": [
    {
     "name": "stdout",
     "output_type": "stream",
     "text": [
      "['sepal length (cm)', 'sepal width (cm)', 'petal length (cm)', 'petal width (cm)']\n"
     ]
    }
   ],
   "source": [
    "print(iris.feature_names)"
   ]
  },
  {
   "cell_type": "code",
   "execution_count": 5,
   "metadata": {},
   "outputs": [
    {
     "name": "stdout",
     "output_type": "stream",
     "text": [
      "['setosa' 'versicolor' 'virginica']\n"
     ]
    }
   ],
   "source": [
    "print(iris.target_names)"
   ]
  },
  {
   "cell_type": "code",
   "execution_count": 7,
   "metadata": {},
   "outputs": [
    {
     "name": "stdout",
     "output_type": "stream",
     "text": [
      "[0 0 0 0 0 0 0 0 0 0 0 0 0 0 0 0 0 0 0 0 0 0 0 0 0 0 0 0 0 0 0 0 0 0 0 0 0\n",
      " 0 0 0 0 0 0 0 0 0 0 0 0 0 1 1 1 1 1 1 1 1 1 1 1 1 1 1 1 1 1 1 1 1 1 1 1 1\n",
      " 1 1 1 1 1 1 1 1 1 1 1 1 1 1 1 1 1 1 1 1 1 1 1 1 1 1 2 2 2 2 2 2 2 2 2 2 2\n",
      " 2 2 2 2 2 2 2 2 2 2 2 2 2 2 2 2 2 2 2 2 2 2 2 2 2 2 2 2 2 2 2 2 2 2 2 2 2\n",
      " 2 2]\n"
     ]
    }
   ],
   "source": [
    "print(iris.target)"
   ]
  },
  {
   "cell_type": "code",
   "execution_count": 8,
   "metadata": {},
   "outputs": [
    {
     "name": "stdout",
     "output_type": "stream",
     "text": [
      "[[5.1 3.5 1.4 0.2]\n",
      " [4.9 3.  1.4 0.2]\n",
      " [4.7 3.2 1.3 0.2]\n",
      " [4.6 3.1 1.5 0.2]\n",
      " [5.  3.6 1.4 0.2]\n",
      " [5.4 3.9 1.7 0.4]\n",
      " [4.6 3.4 1.4 0.3]\n",
      " [5.  3.4 1.5 0.2]\n",
      " [4.4 2.9 1.4 0.2]\n",
      " [4.9 3.1 1.5 0.1]\n",
      " [5.4 3.7 1.5 0.2]\n",
      " [4.8 3.4 1.6 0.2]\n",
      " [4.8 3.  1.4 0.1]\n",
      " [4.3 3.  1.1 0.1]\n",
      " [5.8 4.  1.2 0.2]\n",
      " [5.7 4.4 1.5 0.4]\n",
      " [5.4 3.9 1.3 0.4]\n",
      " [5.1 3.5 1.4 0.3]\n",
      " [5.7 3.8 1.7 0.3]\n",
      " [5.1 3.8 1.5 0.3]\n",
      " [5.4 3.4 1.7 0.2]\n",
      " [5.1 3.7 1.5 0.4]\n",
      " [4.6 3.6 1.  0.2]\n",
      " [5.1 3.3 1.7 0.5]\n",
      " [4.8 3.4 1.9 0.2]\n",
      " [5.  3.  1.6 0.2]\n",
      " [5.  3.4 1.6 0.4]\n",
      " [5.2 3.5 1.5 0.2]\n",
      " [5.2 3.4 1.4 0.2]\n",
      " [4.7 3.2 1.6 0.2]\n",
      " [4.8 3.1 1.6 0.2]\n",
      " [5.4 3.4 1.5 0.4]\n",
      " [5.2 4.1 1.5 0.1]\n",
      " [5.5 4.2 1.4 0.2]\n",
      " [4.9 3.1 1.5 0.2]\n",
      " [5.  3.2 1.2 0.2]\n",
      " [5.5 3.5 1.3 0.2]\n",
      " [4.9 3.6 1.4 0.1]\n",
      " [4.4 3.  1.3 0.2]\n",
      " [5.1 3.4 1.5 0.2]\n",
      " [5.  3.5 1.3 0.3]\n",
      " [4.5 2.3 1.3 0.3]\n",
      " [4.4 3.2 1.3 0.2]\n",
      " [5.  3.5 1.6 0.6]\n",
      " [5.1 3.8 1.9 0.4]\n",
      " [4.8 3.  1.4 0.3]\n",
      " [5.1 3.8 1.6 0.2]\n",
      " [4.6 3.2 1.4 0.2]\n",
      " [5.3 3.7 1.5 0.2]\n",
      " [5.  3.3 1.4 0.2]\n",
      " [7.  3.2 4.7 1.4]\n",
      " [6.4 3.2 4.5 1.5]\n",
      " [6.9 3.1 4.9 1.5]\n",
      " [5.5 2.3 4.  1.3]\n",
      " [6.5 2.8 4.6 1.5]\n",
      " [5.7 2.8 4.5 1.3]\n",
      " [6.3 3.3 4.7 1.6]\n",
      " [4.9 2.4 3.3 1. ]\n",
      " [6.6 2.9 4.6 1.3]\n",
      " [5.2 2.7 3.9 1.4]\n",
      " [5.  2.  3.5 1. ]\n",
      " [5.9 3.  4.2 1.5]\n",
      " [6.  2.2 4.  1. ]\n",
      " [6.1 2.9 4.7 1.4]\n",
      " [5.6 2.9 3.6 1.3]\n",
      " [6.7 3.1 4.4 1.4]\n",
      " [5.6 3.  4.5 1.5]\n",
      " [5.8 2.7 4.1 1. ]\n",
      " [6.2 2.2 4.5 1.5]\n",
      " [5.6 2.5 3.9 1.1]\n",
      " [5.9 3.2 4.8 1.8]\n",
      " [6.1 2.8 4.  1.3]\n",
      " [6.3 2.5 4.9 1.5]\n",
      " [6.1 2.8 4.7 1.2]\n",
      " [6.4 2.9 4.3 1.3]\n",
      " [6.6 3.  4.4 1.4]\n",
      " [6.8 2.8 4.8 1.4]\n",
      " [6.7 3.  5.  1.7]\n",
      " [6.  2.9 4.5 1.5]\n",
      " [5.7 2.6 3.5 1. ]\n",
      " [5.5 2.4 3.8 1.1]\n",
      " [5.5 2.4 3.7 1. ]\n",
      " [5.8 2.7 3.9 1.2]\n",
      " [6.  2.7 5.1 1.6]\n",
      " [5.4 3.  4.5 1.5]\n",
      " [6.  3.4 4.5 1.6]\n",
      " [6.7 3.1 4.7 1.5]\n",
      " [6.3 2.3 4.4 1.3]\n",
      " [5.6 3.  4.1 1.3]\n",
      " [5.5 2.5 4.  1.3]\n",
      " [5.5 2.6 4.4 1.2]\n",
      " [6.1 3.  4.6 1.4]\n",
      " [5.8 2.6 4.  1.2]\n",
      " [5.  2.3 3.3 1. ]\n",
      " [5.6 2.7 4.2 1.3]\n",
      " [5.7 3.  4.2 1.2]\n",
      " [5.7 2.9 4.2 1.3]\n",
      " [6.2 2.9 4.3 1.3]\n",
      " [5.1 2.5 3.  1.1]\n",
      " [5.7 2.8 4.1 1.3]\n",
      " [6.3 3.3 6.  2.5]\n",
      " [5.8 2.7 5.1 1.9]\n",
      " [7.1 3.  5.9 2.1]\n",
      " [6.3 2.9 5.6 1.8]\n",
      " [6.5 3.  5.8 2.2]\n",
      " [7.6 3.  6.6 2.1]\n",
      " [4.9 2.5 4.5 1.7]\n",
      " [7.3 2.9 6.3 1.8]\n",
      " [6.7 2.5 5.8 1.8]\n",
      " [7.2 3.6 6.1 2.5]\n",
      " [6.5 3.2 5.1 2. ]\n",
      " [6.4 2.7 5.3 1.9]\n",
      " [6.8 3.  5.5 2.1]\n",
      " [5.7 2.5 5.  2. ]\n",
      " [5.8 2.8 5.1 2.4]\n",
      " [6.4 3.2 5.3 2.3]\n",
      " [6.5 3.  5.5 1.8]\n",
      " [7.7 3.8 6.7 2.2]\n",
      " [7.7 2.6 6.9 2.3]\n",
      " [6.  2.2 5.  1.5]\n",
      " [6.9 3.2 5.7 2.3]\n",
      " [5.6 2.8 4.9 2. ]\n",
      " [7.7 2.8 6.7 2. ]\n",
      " [6.3 2.7 4.9 1.8]\n",
      " [6.7 3.3 5.7 2.1]\n",
      " [7.2 3.2 6.  1.8]\n",
      " [6.2 2.8 4.8 1.8]\n",
      " [6.1 3.  4.9 1.8]\n",
      " [6.4 2.8 5.6 2.1]\n",
      " [7.2 3.  5.8 1.6]\n",
      " [7.4 2.8 6.1 1.9]\n",
      " [7.9 3.8 6.4 2. ]\n",
      " [6.4 2.8 5.6 2.2]\n",
      " [6.3 2.8 5.1 1.5]\n",
      " [6.1 2.6 5.6 1.4]\n",
      " [7.7 3.  6.1 2.3]\n",
      " [6.3 3.4 5.6 2.4]\n",
      " [6.4 3.1 5.5 1.8]\n",
      " [6.  3.  4.8 1.8]\n",
      " [6.9 3.1 5.4 2.1]\n",
      " [6.7 3.1 5.6 2.4]\n",
      " [6.9 3.1 5.1 2.3]\n",
      " [5.8 2.7 5.1 1.9]\n",
      " [6.8 3.2 5.9 2.3]\n",
      " [6.7 3.3 5.7 2.5]\n",
      " [6.7 3.  5.2 2.3]\n",
      " [6.3 2.5 5.  1.9]\n",
      " [6.5 3.  5.2 2. ]\n",
      " [6.2 3.4 5.4 2.3]\n",
      " [5.9 3.  5.1 1.8]]\n"
     ]
    }
   ],
   "source": [
    "print(iris.data)"
   ]
  },
  {
   "cell_type": "code",
   "execution_count": 9,
   "metadata": {},
   "outputs": [
    {
     "name": "stdout",
     "output_type": "stream",
     "text": [
      "<class 'numpy.ndarray'>\n"
     ]
    }
   ],
   "source": [
    "print(type(iris.data))"
   ]
  },
  {
   "cell_type": "code",
   "execution_count": 11,
   "metadata": {},
   "outputs": [
    {
     "name": "stdout",
     "output_type": "stream",
     "text": [
      "<class 'numpy.ndarray'>\n"
     ]
    }
   ],
   "source": [
    "print(type(iris.target))"
   ]
  },
  {
   "cell_type": "code",
   "execution_count": 34,
   "metadata": {},
   "outputs": [],
   "source": [
    "X=iris.data\n",
    "y=iris.target"
   ]
  },
  {
   "cell_type": "code",
   "execution_count": 16,
   "metadata": {},
   "outputs": [
    {
     "name": "stdout",
     "output_type": "stream",
     "text": [
      "KNeighborsClassifier(algorithm='auto', leaf_size=30, metric='minkowski',\n",
      "           metric_params=None, n_jobs=None, n_neighbors=1, p=2,\n",
      "           weights='uniform')\n"
     ]
    }
   ],
   "source": [
    "from sklearn.neighbors import KNeighborsClassifier\n",
    "knn = KNeighborsClassifier(n_neighbors=1)\n",
    "print(knn)"
   ]
  },
  {
   "cell_type": "code",
   "execution_count": 18,
   "metadata": {},
   "outputs": [
    {
     "data": {
      "text/plain": [
       "KNeighborsClassifier(algorithm='auto', leaf_size=30, metric='minkowski',\n",
       "           metric_params=None, n_jobs=None, n_neighbors=1, p=2,\n",
       "           weights='uniform')"
      ]
     },
     "execution_count": 18,
     "metadata": {},
     "output_type": "execute_result"
    }
   ],
   "source": [
    "knn.fit(X,y)"
   ]
  },
  {
   "cell_type": "code",
   "execution_count": 24,
   "metadata": {},
   "outputs": [],
   "source": [
    "prediction = knn.predict([[2,4,3,1],[4,6,5,3]])"
   ]
  },
  {
   "cell_type": "code",
   "execution_count": 25,
   "metadata": {},
   "outputs": [
    {
     "data": {
      "text/plain": [
       "numpy.ndarray"
      ]
     },
     "execution_count": 25,
     "metadata": {},
     "output_type": "execute_result"
    }
   ],
   "source": [
    "type(prediction)"
   ]
  },
  {
   "cell_type": "code",
   "execution_count": 26,
   "metadata": {},
   "outputs": [
    {
     "name": "stdout",
     "output_type": "stream",
     "text": [
      "[0 2]\n"
     ]
    }
   ],
   "source": [
    "print(prediction)"
   ]
  },
  {
   "cell_type": "code",
   "execution_count": 27,
   "metadata": {},
   "outputs": [
    {
     "data": {
      "text/plain": [
       "KNeighborsClassifier(algorithm='auto', leaf_size=30, metric='minkowski',\n",
       "           metric_params=None, n_jobs=None, n_neighbors=5, p=2,\n",
       "           weights='uniform')"
      ]
     },
     "execution_count": 27,
     "metadata": {},
     "output_type": "execute_result"
    }
   ],
   "source": [
    "knn5 = KNeighborsClassifier(n_neighbors=5)\n",
    "knn5.fit(X,y)"
   ]
  },
  {
   "cell_type": "code",
   "execution_count": 28,
   "metadata": {},
   "outputs": [
    {
     "name": "stdout",
     "output_type": "stream",
     "text": [
      "[0 1]\n"
     ]
    }
   ],
   "source": [
    "prediction5 = knn5.predict([[2,4,3,1],[4,6,5,3]])\n",
    "print(prediction5)"
   ]
  },
  {
   "cell_type": "code",
   "execution_count": 29,
   "metadata": {},
   "outputs": [
    {
     "name": "stdout",
     "output_type": "stream",
     "text": [
      "['setosa' 'versicolor' 'virginica']\n"
     ]
    }
   ],
   "source": [
    "print(iris.target_names)"
   ]
  },
  {
   "cell_type": "markdown",
   "metadata": {},
   "source": [
    "<p> LOGISTIC REGRESSION </p>"
   ]
  },
  {
   "cell_type": "code",
   "execution_count": 35,
   "metadata": {},
   "outputs": [
    {
     "name": "stderr",
     "output_type": "stream",
     "text": [
      "C:\\Users\\Yousuf Khan\\Anaconda3\\lib\\site-packages\\sklearn\\linear_model\\logistic.py:433: FutureWarning: Default solver will be changed to 'lbfgs' in 0.22. Specify a solver to silence this warning.\n",
      "  FutureWarning)\n",
      "C:\\Users\\Yousuf Khan\\Anaconda3\\lib\\site-packages\\sklearn\\linear_model\\logistic.py:460: FutureWarning: Default multi_class will be changed to 'auto' in 0.22. Specify the multi_class option to silence this warning.\n",
      "  \"this warning.\", FutureWarning)\n"
     ]
    },
    {
     "data": {
      "text/plain": [
       "LogisticRegression(C=1.0, class_weight=None, dual=False, fit_intercept=True,\n",
       "          intercept_scaling=1, max_iter=100, multi_class='warn',\n",
       "          n_jobs=None, penalty='l2', random_state=None, solver='warn',\n",
       "          tol=0.0001, verbose=0, warm_start=False)"
      ]
     },
     "execution_count": 35,
     "metadata": {},
     "output_type": "execute_result"
    }
   ],
   "source": [
    "from sklearn.linear_model import LogisticRegression\n",
    "logisticreg = LogisticRegression()\n",
    "logisticreg.fit(X,y)"
   ]
  },
  {
   "cell_type": "code",
   "execution_count": 36,
   "metadata": {},
   "outputs": [
    {
     "name": "stdout",
     "output_type": "stream",
     "text": [
      "[2 2]\n"
     ]
    }
   ],
   "source": [
    "prediction_lr = logisticreg.predict([[2,4,3,1],[4,6,5,3]])\n",
    "print(prediction_lr)"
   ]
  },
  {
   "cell_type": "code",
   "execution_count": 37,
   "metadata": {},
   "outputs": [
    {
     "name": "stdout",
     "output_type": "stream",
     "text": [
      "[0 1]\n",
      "[0 1]\n",
      "[0 1]\n"
     ]
    }
   ],
   "source": [
    "prediction = knn.predict([[5.1,3.5,1.4,0.2],[6.3,3.3,4.7,1.6]])\n",
    "\n",
    "print(prediction)\n",
    "\n",
    "prediction5 = knn5.predict([[5.1,3.5,1.4,0.2],[6.3,3.3,4.7,1.6]])\n",
    "\n",
    "print(prediction5)\n",
    "\n",
    "prediction_lr = logisticreg.predict(([[5.1,3.5,1.4,0.2],[6.3,3.3,4.7,1.6]]))\n",
    "\n",
    "print(prediction_lr) "
   ]
  },
  {
   "cell_type": "code",
   "execution_count": 38,
   "metadata": {},
   "outputs": [],
   "source": [
    "from sklearn.model_selection import train_test_split\n",
    "X_train, X_test, y_train, y_test = train_test_split(X, y, test_size=0.3)"
   ]
  },
  {
   "cell_type": "code",
   "execution_count": 39,
   "metadata": {},
   "outputs": [
    {
     "name": "stdout",
     "output_type": "stream",
     "text": [
      "(150, 4)\n"
     ]
    }
   ],
   "source": [
    "print(X.shape)"
   ]
  },
  {
   "cell_type": "code",
   "execution_count": 40,
   "metadata": {},
   "outputs": [
    {
     "name": "stdout",
     "output_type": "stream",
     "text": [
      "(105, 4)\n",
      "(45, 4)\n"
     ]
    }
   ],
   "source": [
    "print(X_train.shape)\n",
    "print(X_test.shape)"
   ]
  },
  {
   "cell_type": "code",
   "execution_count": 41,
   "metadata": {},
   "outputs": [
    {
     "name": "stdout",
     "output_type": "stream",
     "text": [
      "(105,)\n",
      "(45,)\n"
     ]
    }
   ],
   "source": [
    "print(y_train.shape)\n",
    "print(y_test.shape)"
   ]
  },
  {
   "cell_type": "code",
   "execution_count": 42,
   "metadata": {},
   "outputs": [
    {
     "name": "stderr",
     "output_type": "stream",
     "text": [
      "C:\\Users\\Yousuf Khan\\Anaconda3\\lib\\site-packages\\sklearn\\linear_model\\logistic.py:433: FutureWarning: Default solver will be changed to 'lbfgs' in 0.22. Specify a solver to silence this warning.\n",
      "  FutureWarning)\n",
      "C:\\Users\\Yousuf Khan\\Anaconda3\\lib\\site-packages\\sklearn\\linear_model\\logistic.py:460: FutureWarning: Default multi_class will be changed to 'auto' in 0.22. Specify the multi_class option to silence this warning.\n",
      "  \"this warning.\", FutureWarning)\n"
     ]
    },
    {
     "data": {
      "text/plain": [
       "LogisticRegression(C=1.0, class_weight=None, dual=False, fit_intercept=True,\n",
       "          intercept_scaling=1, max_iter=100, multi_class='warn',\n",
       "          n_jobs=None, penalty='l2', random_state=None, solver='warn',\n",
       "          tol=0.0001, verbose=0, warm_start=False)"
      ]
     },
     "execution_count": 42,
     "metadata": {},
     "output_type": "execute_result"
    }
   ],
   "source": [
    "logisticreg = LogisticRegression()\n",
    "logisticreg.fit(X_train, y_train)"
   ]
  },
  {
   "cell_type": "code",
   "execution_count": 63,
   "metadata": {},
   "outputs": [
    {
     "name": "stdout",
     "output_type": "stream",
     "text": [
      "0.9555555555555556\n"
     ]
    }
   ],
   "source": [
    "y_pred = logisticreg.predict(X_test)\n",
    "from sklearn import metrics\n",
    "print(metrics.accuracy_score(y_test, y_pred))"
   ]
  },
  {
   "cell_type": "code",
   "execution_count": 64,
   "metadata": {},
   "outputs": [
    {
     "name": "stdout",
     "output_type": "stream",
     "text": [
      "0.9111111111111111\n"
     ]
    }
   ],
   "source": [
    "knn.fit(X_train, y_train)\n",
    "y_pred = knn.predict(X_test)\n",
    "print(metrics.accuracy_score(y_test, y_pred))"
   ]
  },
  {
   "cell_type": "code",
   "execution_count": 53,
   "metadata": {},
   "outputs": [
    {
     "name": "stdout",
     "output_type": "stream",
     "text": [
      "0.9333333333333333\n"
     ]
    }
   ],
   "source": [
    "knn5.fit(X_train, y_train)\n",
    "y_pred = knn5.predict(X_test)\n",
    "print(metrics.accuracy_score(y_test, y_pred))"
   ]
  },
  {
   "cell_type": "code",
   "execution_count": 65,
   "metadata": {},
   "outputs": [
    {
     "name": "stdout",
     "output_type": "stream",
     "text": [
      "0.9333333333333333\n"
     ]
    }
   ],
   "source": [
    "knn5.fit(X_train, y_train)\n",
    "y_pred = knn5.predict(X_test)\n",
    "print(metrics.accuracy_score(y_test, y_pred))"
   ]
  },
  {
   "cell_type": "code",
   "execution_count": 58,
   "metadata": {},
   "outputs": [
    {
     "name": "stdout",
     "output_type": "stream",
     "text": [
      "Hello Geek\n",
      "Hello Geek\n",
      "Hello Geek\n"
     ]
    }
   ],
   "source": [
    "count = 0\n",
    "while (count < 3):     \n",
    "    count = count + 1\n",
    "    print(\"Hello Geek\") "
   ]
  },
  {
   "cell_type": "code",
   "execution_count": 62,
   "metadata": {
    "scrolled": false
   },
   "outputs": [
    {
     "name": "stdout",
     "output_type": "stream",
     "text": [
      "1 , 0.9555555555555556\n",
      "2 , 0.9555555555555556\n",
      "3 , 0.9555555555555556\n",
      "4 , 0.9555555555555556\n",
      "5 , 0.9333333333333333\n",
      "6 , 0.9333333333333333\n",
      "7 , 0.9333333333333333\n",
      "8 , 0.9555555555555556\n",
      "9 , 0.9333333333333333\n",
      "10 , 0.9555555555555556\n",
      "11 , 0.9555555555555556\n",
      "12 , 0.9555555555555556\n",
      "13 , 0.9333333333333333\n",
      "14 , 0.9333333333333333\n",
      "15 , 0.9333333333333333\n",
      "16 , 0.9333333333333333\n",
      "17 , 0.9333333333333333\n",
      "18 , 0.9333333333333333\n",
      "19 , 0.9333333333333333\n",
      "20 , 0.9333333333333333\n",
      "21 , 0.9333333333333333\n",
      "22 , 0.9333333333333333\n",
      "23 , 0.9111111111111111\n",
      "24 , 0.9333333333333333\n",
      "25 , 0.9111111111111111\n",
      "26 , 0.9333333333333333\n",
      "27 , 0.9111111111111111\n",
      "28 , 0.9333333333333333\n",
      "29 , 0.9333333333333333\n",
      "30 , 0.9333333333333333\n",
      "31 , 0.9111111111111111\n"
     ]
    }
   ],
   "source": [
    "count = 0\n",
    "while (count < 31):\n",
    "    count = count + 1\n",
    "    knn = KNeighborsClassifier(n_neighbors=count)\n",
    "    knn.fit(X_train, y_train)\n",
    "    y_pred = knn.predict(X_test)\n",
    "    print(count,\",\",metrics.accuracy_score(y_test, y_pred))"
   ]
  },
  {
   "cell_type": "code",
   "execution_count": 67,
   "metadata": {},
   "outputs": [
    {
     "name": "stdout",
     "output_type": "stream",
     "text": [
      "0.9666666666666668\n"
     ]
    }
   ],
   "source": [
    "from sklearn.model_selection import cross_val_score\n",
    "knn = KNeighborsClassifier(n_neighbors=5)\n",
    "scores  = cross_val_score(knn, X, y, cv=10, scoring = 'accuracy')\n",
    "print(scores.mean())"
   ]
  },
  {
   "cell_type": "code",
   "execution_count": 69,
   "metadata": {},
   "outputs": [
    {
     "name": "stdout",
     "output_type": "stream",
     "text": [
      "[0.96, 0.9533333333333334, 0.9666666666666666, 0.9666666666666666, 0.9666666666666668, 0.9666666666666668, 0.9666666666666668, 0.9666666666666668, 0.9733333333333334, 0.9666666666666668, 0.9666666666666668, 0.9733333333333334, 0.9800000000000001, 0.9733333333333334, 0.9733333333333334, 0.9733333333333334, 0.9733333333333334, 0.9800000000000001, 0.9733333333333334, 0.9800000000000001, 0.9666666666666666, 0.9666666666666666, 0.9733333333333334, 0.96, 0.9666666666666666, 0.96, 0.9666666666666666, 0.9533333333333334, 0.9533333333333334, 0.9533333333333334, 0.9466666666666667, 0.9466666666666667, 0.9466666666666667, 0.9466666666666667, 0.9466666666666667, 0.9466666666666667, 0.9466666666666667, 0.9466666666666667, 0.9533333333333334]\n"
     ]
    }
   ],
   "source": [
    "k_range = range(1,40)\n",
    "k_scores = []\n",
    "for k in k_range:\n",
    "    knn = KNeighborsClassifier(n_neighbors=k)\n",
    "    scores  = cross_val_score(knn, X, y, cv=10, scoring = 'accuracy')\n",
    "    k_scores.append(scores.mean())\n",
    "    \n",
    "print(k_scores)"
   ]
  },
  {
   "cell_type": "code",
   "execution_count": 89,
   "metadata": {},
   "outputs": [
    {
     "data": {
      "image/png": "[encoded data removed]",
      "text/plain": [
       "<Figure size 432x288 with 1 Axes>"
      ]
     },
     "metadata": {
      "needs_background": "light"
     },
     "output_type": "display_data"
    }
   ],
   "source": [
    "import matplotlib.pyplot as plt\n",
    "%matplotlib inline\n",
    "plt.plot(k_range, k_scores)\n",
    "plt.show()"
   ]
  }
 ],
 "metadata": {
  "kernelspec": {
   "display_name": "Python 3",
   "language": "python",
   "name": "python3"
  },
  "language_info": {
   "codemirror_mode": {
    "name": "ipython",
    "version": 3
   },
   "file_extension": ".py",
   "mimetype": "text/x-python",
   "name": "python",
   "nbconvert_exporter": "python",
   "pygments_lexer": "ipython3",
   "version": "3.7.1"
  }
 },
 "nbformat": 4,
 "nbformat_minor": 2
}
